{
  "nbformat": 4,
  "nbformat_minor": 0,
  "metadata": {
    "colab": {
      "provenance": [],
      "authorship_tag": "ABX9TyNnw/SYFnSbnSt89vOaGWwH",
      "include_colab_link": true
    },
    "kernelspec": {
      "name": "python3",
      "display_name": "Python 3"
    },
    "language_info": {
      "name": "python"
    }
  },
  "cells": [
    {
      "cell_type": "markdown",
      "metadata": {
        "id": "view-in-github",
        "colab_type": "text"
      },
      "source": [
        "<a href=\"https://colab.research.google.com/github/Ben-Hadji/H3-Cours/blob/main/Untitled0.ipynb\" target=\"_parent\"><img src=\"https://colab.research.google.com/assets/colab-badge.svg\" alt=\"Open In Colab\"/></a>"
      ]
    },
    {
      "cell_type": "code",
      "execution_count": 1,
      "metadata": {
        "colab": {
          "base_uri": "https://localhost:8080/"
        },
        "id": "XTZKjYiCuyrq",
        "outputId": "0e88b986-6b47-43d7-ef18-26c93ddaad8b"
      },
      "outputs": [
        {
          "output_type": "stream",
          "name": "stdout",
          "text": [
            "2\n"
          ]
        }
      ],
      "source": [
        "print(2)"
      ]
    },
    {
      "cell_type": "markdown",
      "source": [
        "2.5 Le plus grand\n",
        "Ecrire un algorithme permettant à l’utilisateur de renvoyer la plus grande valeur\n",
        "du tableau passer en input en précisant quelle position elle occupe dans le\n",
        "tableau."
      ],
      "metadata": {
        "id": "g7iXwhJ97xLQ"
      }
    },
    {
      "cell_type": "code",
      "source": [
        "def PlusGrand(tab):\n",
        "  val = tab[0]\n",
        "  pos = 0\n",
        "  if len(tab) > 1:\n",
        "    for i in range (1,len(tab)):\n",
        "      if tab[i]>val : \n",
        "        val = tab[i];\n",
        "        pos = i\n",
        "  #return (\"la valeur la plus grande est val\", val, 'situé à la position', pos)\n",
        "  return ([val, pos])\n",
        "\n",
        "#Tests\n",
        "tab = [1,4,8,8,9,2,5,9]\n",
        "v = PlusGrand(tab)\n",
        "print(\"la plus grande valeur est\", v[0] ,\"à la position\", v[1])\n",
        "tab1 = [10,4,8,8,9,2,5,9]\n",
        "u = PlusGrand(tab1)\n",
        "print(\"la plus grande valeur est\", u[0] ,\"à la position\", u[1])"
      ],
      "metadata": {
        "colab": {
          "base_uri": "https://localhost:8080/"
        },
        "id": "kl-2PoDb77fz",
        "outputId": "8545e639-521f-4c15-d17b-0356c9c016a9"
      },
      "execution_count": 27,
      "outputs": [
        {
          "output_type": "stream",
          "name": "stdout",
          "text": [
            "la plus grande valeur est 9 à la position 4\n",
            "la plus grande valeur est 10 à la position 0\n"
          ]
        }
      ]
    },
    {
      "cell_type": "markdown",
      "source": [
        "2.6 Plus grand que la moyenne : \n",
        "Ecrire un algorithme permettant à l’utilisateur de renvoyer le nombre de valeur\n",
        "supérieures à la moyenne d’un tableau pass ́e en input de taille n."
      ],
      "metadata": {
        "id": "GAWqodnIBu_U"
      }
    },
    {
      "cell_type": "code",
      "source": [
        "def MoyenneListe(tab):\n",
        "  sum = 0\n",
        "  for i in range(len(tab)):\n",
        "    sum += tab[i]\n",
        "  return(sum/len(tab))\n",
        "def PlusQueMoyenne(tab):\n",
        "  moy = MoyenneListe(tab)\n",
        "  print(\"la moyenne est de :\", moy)\n",
        "  lesPlusGrands = 0\n",
        "  for j in range(len(tab)):\n",
        "    if tab[j] > moy:\n",
        "      lesPlusGrands += 1\n",
        "  return(lesPlusGrands)\n",
        "\n",
        "#Tests\n",
        "tab = [1,4,8,8,9,2,5,9]\n",
        "gd = PlusQueMoyenne(tab)\n",
        "print(\"il y a \",gd,\" de nombre supérieurs à la moyenne\")\n",
        "tab1 = [10,4,2,8,3,2,5,9]\n",
        "gd = PlusQueMoyenne(tab1)\n",
        "print(\"il y a \",gd,\" de nombre supérieurs à la moyenne\")"
      ],
      "metadata": {
        "colab": {
          "base_uri": "https://localhost:8080/"
        },
        "id": "K5xccbPBB8XK",
        "outputId": "da6cb829-d91d-4e6f-86ee-6faac60b6804"
      },
      "execution_count": 25,
      "outputs": [
        {
          "output_type": "stream",
          "name": "stdout",
          "text": [
            "la moyenne est de : 5.75\n",
            "il y a  4  de nombre supérieurs à la moyenne\n",
            "la moyenne est de : 5.375\n",
            "il y a  3  de nombre supérieurs à la moyenne\n"
          ]
        }
      ]
    },
    {
      "cell_type": "markdown",
      "source": [
        "2.8 Tris : \n",
        " ́Ecrire un algorithme permettant de trier un tableau de taille n."
      ],
      "metadata": {
        "id": "E5tlTfb1H1Vg"
      }
    },
    {
      "cell_type": "code",
      "source": [
        "def Tri(tab) :\n",
        "  print(tab, \">>\")\n",
        "  for i in range (len(tab)-1, -1, -1):\n",
        "    val = tab[0]\n",
        "    pos = 0\n",
        "    if len(tab) > 1:\n",
        "      for j in range (1,i):\n",
        "        if tab[j]>val : \n",
        "          val = tab[j];\n",
        "          pos = j\n",
        "      if val > tab[i]:\n",
        "        valTemp = tab[i]\n",
        "        tab[i] = val\n",
        "        tab[pos] = valTemp\n",
        "  return tab\n",
        "\n",
        "#test\n",
        "tab = [10,4,2,8,3,2,5,9]\n",
        "res = Tri(tab)\n",
        "print(res)\n",
        "\n",
        "tab = [10,4,2,8,3,2,5,9]\n",
        "res = Tri(tab)\n",
        "print(res)"
      ],
      "metadata": {
        "colab": {
          "base_uri": "https://localhost:8080/"
        },
        "id": "yd3ONCUyIEH_",
        "outputId": "f2be3e5b-6f9c-4116-9e0e-f194f40bc68b"
      },
      "execution_count": 45,
      "outputs": [
        {
          "output_type": "stream",
          "name": "stdout",
          "text": [
            "[10, 4, 2, 8, 3, 2, 5, 9] >>\n",
            "[2, 2, 3, 4, 5, 8, 9, 10]\n",
            "[10, 4, 2, 8, 3, 2, 5, 9] >>\n",
            "[2, 2, 3, 4, 5, 8, 9, 10]\n"
          ]
        }
      ]
    },
    {
      "cell_type": "markdown",
      "source": [
        "2.9 Factorielle : \n",
        "Ecrire un algorithme qui demande un nombre de d ́epart, et qui calcule sa\n",
        "factorielle. On rappel qu’on calcul factorielle n tel que : n! = ∏\n",
        "1in i =\n",
        "1 ×2 ×3 ×... ×(n −1) ×n.. Par exemple 4! = 1 ×2 ×3 ×4."
      ],
      "metadata": {
        "id": "08-QdwFROZ1K"
      }
    },
    {
      "cell_type": "code",
      "source": [
        "def Factorielle(nb):\n",
        "  if nb == 0 :\n",
        "    return(1)\n",
        "  return(nb * Factorielle(nb-1))\n",
        "\n",
        "res = Factorielle(3)\n",
        "print(res)\n",
        "res = Factorielle(6)\n",
        "print(res) "
      ],
      "metadata": {
        "colab": {
          "base_uri": "https://localhost:8080/"
        },
        "id": "qwHorXvWPLRp",
        "outputId": "c9e17e1b-53a5-412d-c577-1f984b7a5239"
      },
      "execution_count": 48,
      "outputs": [
        {
          "output_type": "stream",
          "name": "stdout",
          "text": [
            "6\n",
            "720\n"
          ]
        }
      ]
    },
    {
      "cell_type": "markdown",
      "source": [
        "2.10 La multiplication matricielle\n",
        "Ecrire un algorithme qui prend deux matrices carrées A et B de taille n et qui\n",
        "renvoie un  élement ci,j (l’élement de la ligne i colonne j) de la matrice C tel\n",
        "que, A ×B = C"
      ],
      "metadata": {
        "id": "x7YVs7jOQgP9"
      }
    },
    {
      "cell_type": "code",
      "source": [
        "def MultipMatricielle(tab, tab1):\n",
        "  tabRes = [None] * len(tab)\n",
        "  for i in range (len(tab)):\n",
        "    ligne = []\n",
        "    for j in range (len(tab1[0])):\n",
        "      sum = 0\n",
        "      for k in range(len(tab1)):\n",
        "        print(i,\" et \", k, \" - \", k, \" et \", j)\n",
        "        sum += tab[i][k]*tab1[k][j]\n",
        "      ligne.append(sum)\n",
        "    tabRes[i] = ligne\n",
        "  return(tabRes)\n",
        "      \n",
        " \n",
        "tab = [[1,2],[3,4]]\n",
        "tab1 = [[5,6],[7,8]]\n",
        "a = MultipMatricielle(tab,tab1)\n",
        "print(a)"
      ],
      "metadata": {
        "colab": {
          "base_uri": "https://localhost:8080/"
        },
        "id": "cDVgiITgROgo",
        "outputId": "373111b0-a96d-4fbc-ad15-37ede0db2a9f"
      },
      "execution_count": 50,
      "outputs": [
        {
          "output_type": "stream",
          "name": "stdout",
          "text": [
            "0  et  0  -  0  et  0\n",
            "0  et  1  -  1  et  0\n",
            "[19]\n",
            "0  et  0  -  0  et  1\n",
            "0  et  1  -  1  et  1\n",
            "[19, 22]\n",
            "1  et  0  -  0  et  0\n",
            "1  et  1  -  1  et  0\n",
            "[43]\n",
            "1  et  0  -  0  et  1\n",
            "1  et  1  -  1  et  1\n",
            "[43, 50]\n",
            "[[19, 22], [43, 50]]\n"
          ]
        }
      ]
    }
  ]
}