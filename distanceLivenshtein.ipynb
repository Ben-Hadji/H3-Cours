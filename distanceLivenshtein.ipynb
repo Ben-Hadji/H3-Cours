{
  "nbformat": 4,
  "nbformat_minor": 0,
  "metadata": {
    "colab": {
      "provenance": [],
      "authorship_tag": "ABX9TyMwFuROgBPF2DogM1xiTWzc",
      "include_colab_link": true
    },
    "kernelspec": {
      "name": "python3",
      "display_name": "Python 3"
    },
    "language_info": {
      "name": "python"
    }
  },
  "cells": [
    {
      "cell_type": "markdown",
      "metadata": {
        "id": "view-in-github",
        "colab_type": "text"
      },
      "source": [
        "<a href=\"https://colab.research.google.com/github/Ben-Hadji/H3-Cours/blob/main/distanceLivenshtein.ipynb\" target=\"_parent\"><img src=\"https://colab.research.google.com/assets/colab-badge.svg\" alt=\"Open In Colab\"/></a>"
      ]
    },
    {
      "cell_type": "markdown",
      "source": [
        "# Nouvelle section\n",
        "Distance de Levenshtein\n",
        "# Nouvelle section\n",
        "coder la disatance de livenshtein en se basnat sur les explication utilisant la matrice"
      ],
      "metadata": {
        "id": "jKpm63oVUQg0"
      }
    },
    {
      "cell_type": "code",
      "execution_count": 1,
      "metadata": {
        "id": "0LKLcuZsT2wm"
      },
      "outputs": [],
      "source": [
        "def distLevenshtein(mot, word):\n",
        "    tab = [[\" \" for i in range (len(word)+2)] for j in range (len(mot)+2)] \n",
        "    tab[0][0] = tab[0][1] = tab[1][0] = \"-\"\n",
        "    tab[1][1] = \"0\"\n",
        "    \n",
        "    for i in range(2, len(word)+2):\n",
        "        tab[0][i] = word[i-2]\n",
        "        tab[1][i] = str(i-1)\n",
        "    for j in range(2, len(mot)+2):\n",
        "        tab[j][0] = mot[j-2]\n",
        "        tab[j][1] = str(j-1)\n",
        "    \n",
        "    for i in range (len(mot)+2):\n",
        "        print(tab[i])\n",
        "        \n",
        "    for k in range(2, len(mot)+2):\n",
        "        g = tab[k][0]\n",
        "        for x in range(2, len(word)+2):\n",
        "            if (g == tab[0][x]):\n",
        "                \n",
        "                tab[k][x] = str(min(int(tab[k][x-1]), int(tab[k-1][x]), int(tab[k-1][x-1])))\n",
        "            else:\n",
        "                tab[k][x] = str(min(int(tab[k][x-1]), int(tab[k-1][x]), int(tab[k-1][x-1])) + 1)\n",
        "    print(\"\\n voila le resultat >> \\n\")\n",
        "    for i in range (len(mot)+2):\n",
        "        print(tab[i])  \n",
        "    return(tab[len(mot)+1][len(word)+1])\n",
        "\n",
        "    "
      ]
    },
    {
      "cell_type": "code",
      "source": [
        "rep = str(input(\"taper 'o' ou 'O' si voulez vous lancer le programme :\"))\n",
        "while(rep == \"o\" or rep == \"O\"):\n",
        "  mot = str(input(\"veuillez saisir un premier mot : \"))\n",
        "  mot2 = str(input(\"un deuxieme mot pour la route? :\"))\n",
        "  distance = distLevenshtein(mot, mot2)\n",
        "  print(\"il faut \", distance,\" modifications\")\n",
        "  print('>>> >>> >>>')\n",
        "  rep = str(input(\"\\ntaper 'o' ou 'O' si voulez vous lancer le programme :\"))\n"
      ],
      "metadata": {
        "colab": {
          "base_uri": "https://localhost:8080/"
        },
        "id": "Nc18IN9VUN39",
        "outputId": "fdbc716e-7112-4fe9-c109-78ad3eff9be1"
      },
      "execution_count": 12,
      "outputs": [
        {
          "name": "stdout",
          "output_type": "stream",
          "text": [
            "taper 'o' ou 'O' si voulez vous lancer le programme :o\n",
            "veuillez saisir un premier mot : chien\n",
            "un deuxieme mot pour la route? :niche\n",
            "['-', '-', 'n', 'i', 'c', 'h', 'e']\n",
            "['-', '0', '1', '2', '3', '4', '5']\n",
            "['c', '1', ' ', ' ', ' ', ' ', ' ']\n",
            "['h', '2', ' ', ' ', ' ', ' ', ' ']\n",
            "['i', '3', ' ', ' ', ' ', ' ', ' ']\n",
            "['e', '4', ' ', ' ', ' ', ' ', ' ']\n",
            "['n', '5', ' ', ' ', ' ', ' ', ' ']\n",
            "\n",
            " voila le resultat >> \n",
            "\n",
            "['-', '-', 'n', 'i', 'c', 'h', 'e']\n",
            "['-', '0', '1', '2', '3', '4', '5']\n",
            "['c', '1', '1', '2', '2', '3', '4']\n",
            "['h', '2', '2', '2', '3', '2', '3']\n",
            "['i', '3', '3', '2', '3', '3', '3']\n",
            "['e', '4', '4', '3', '3', '4', '3']\n",
            "['n', '5', '4', '4', '4', '4', '4']\n",
            "il faut  4  modifications\n",
            ">>> >>> >>>\n",
            "\n",
            "taper 'o' ou 'O' si voulez vous lancer le programme :O\n",
            "veuillez saisir un premier mot : salam\n",
            "un deuxieme mot pour la route? :malus\n",
            "['-', '-', 'm', 'a', 'l', 'u', 's']\n",
            "['-', '0', '1', '2', '3', '4', '5']\n",
            "['s', '1', ' ', ' ', ' ', ' ', ' ']\n",
            "['a', '2', ' ', ' ', ' ', ' ', ' ']\n",
            "['l', '3', ' ', ' ', ' ', ' ', ' ']\n",
            "['a', '4', ' ', ' ', ' ', ' ', ' ']\n",
            "['m', '5', ' ', ' ', ' ', ' ', ' ']\n",
            "\n",
            " voila le resultat >> \n",
            "\n",
            "['-', '-', 'm', 'a', 'l', 'u', 's']\n",
            "['-', '0', '1', '2', '3', '4', '5']\n",
            "['s', '1', '1', '2', '3', '4', '4']\n",
            "['a', '2', '2', '1', '2', '3', '4']\n",
            "['l', '3', '3', '2', '1', '2', '3']\n",
            "['a', '4', '4', '2', '2', '2', '3']\n",
            "['m', '5', '4', '3', '3', '3', '3']\n",
            "il faut  3  modifications\n",
            ">>> >>> >>>\n",
            "\n",
            "taper 'o' ou 'O' si voulez vous lancer le programme :n\n"
          ]
        }
      ]
    }
  ]
}